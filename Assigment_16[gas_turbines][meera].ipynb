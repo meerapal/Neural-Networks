{
 "cells": [
  {
   "cell_type": "code",
   "execution_count": null,
   "metadata": {
    "id": "zqi2pjSzocJH"
   },
   "outputs": [],
   "source": []
  },
  {
   "cell_type": "markdown",
   "metadata": {
    "id": "RV6ZWtoKod7j"
   },
   "source": [
    "# Importing Libraries"
   ]
  },
  {
   "cell_type": "code",
   "execution_count": null,
   "metadata": {
    "id": "e5OgtXfsoiDA"
   },
   "outputs": [],
   "source": [
    "import numpy as np\n",
    "import pandas as pd\n",
    "import matplotlib.pyplot as plt\n",
    "%matplotlib inline\n",
    "import seaborn as sns\n",
    "from sklearn.preprocessing import MinMaxScaler\n",
    "from imblearn.over_sampling import SMOTE\n",
    "import keras\n",
    "from keras.models import Sequential\n",
    "from keras.layers import Dense\n",
    "from sklearn.model_selection import train_test_split\n",
    "from sklearn.preprocessing import StandardScaler\n",
    "from sklearn.metrics import r2_score"
   ]
  },
  {
   "cell_type": "markdown",
   "metadata": {
    "id": "e9IJ5gFY7f5m"
   },
   "source": [
    "# Importing the Dataset"
   ]
  },
  {
   "cell_type": "code",
   "execution_count": null,
   "metadata": {
    "id": "66ISb-d-plJP"
   },
   "outputs": [],
   "source": [
    "df=pd.read_csv('/content/gas_turbines.csv')\n",
    "df"
   ]
  },
  {
   "cell_type": "markdown",
   "metadata": {
    "id": "Ndbbcuae8oGn"
   },
   "source": [
    "# Problem Statement\n",
    "\n",
    " predicting turbine energy yield (TEY) using ambient variables as features.\n",
    "\n",
    "\n"
   ]
  },
  {
   "cell_type": "markdown",
   "metadata": {
    "id": "X9N8nxMo90tt"
   },
   "source": [
    "# Attribute Information:\n",
    "\n",
    "The explanations of sensor measurements and their brief statistics are given below.\n",
    "\n",
    "Variable (Abbr.) Unit Min Max Mean\n",
    "Ambient temperature (AT) C â€“6.23 37.10 17.71\n",
    "\n",
    "Ambient pressure (AP) mbar 985.85 1036.56 1013.07\n",
    "\n",
    "Ambient humidity (AH) (%) 24.08 100.20 77.87\n",
    "\n",
    "Air filter difference pressure (AFDP) mbar 2.09 7.61 3.93\n",
    "\n",
    "Gas turbine exhaust pressure (GTEP) mbar 17.70 40.72 25.56\n",
    "\n",
    "Turbine inlet temperature (TIT) C 1000.85 1100.89 1081.43\n",
    "\n",
    "Turbine after temperature (TAT) C 511.04 550.61 546.16\n",
    "\n",
    "Compressor discharge pressure (CDP) mbar 9.85 15.16 12.06\n",
    "\n",
    "Turbine energy yield (TEY) MWH 100.02 179.50 133.51\n",
    "\n",
    "Carbon monoxide (CO) mg/m3 0.00 44.10 2.37\n",
    "\n",
    "Nitrogen oxides (NOx) mg/m3 25.90 119.91 65.29"
   ]
  },
  {
   "cell_type": "markdown",
   "metadata": {
    "id": "6xbnh-FSBI4D"
   },
   "source": [
    "# Data Exploration"
   ]
  },
  {
   "cell_type": "code",
   "execution_count": null,
   "metadata": {
    "id": "ZSefdArV8_Sj"
   },
   "outputs": [],
   "source": [
    "print(df.shape)\n",
    "df.head()"
   ]
  },
  {
   "cell_type": "code",
   "execution_count": null,
   "metadata": {
    "id": "NMkjlR4GCDB7"
   },
   "outputs": [],
   "source": [
    "df.describe()"
   ]
  },
  {
   "cell_type": "code",
   "execution_count": null,
   "metadata": {
    "id": "n0Oy-E8TCnBN"
   },
   "outputs": [],
   "source": [
    "df.info()"
   ]
  },
  {
   "cell_type": "code",
   "execution_count": null,
   "metadata": {
    "id": "pBzZj_I3CnEt"
   },
   "outputs": [],
   "source": [
    "df.isnull().sum()"
   ]
  },
  {
   "cell_type": "code",
   "execution_count": null,
   "metadata": {
    "id": "uWVQ0j4PCnIM"
   },
   "outputs": [],
   "source": [
    "df.columns"
   ]
  },
  {
   "cell_type": "code",
   "execution_count": null,
   "metadata": {
    "id": "iJTCjiadCnLy"
   },
   "outputs": [],
   "source": [
    "df.dtypes"
   ]
  },
  {
   "cell_type": "code",
   "execution_count": null,
   "metadata": {
    "id": "fxr--zH2CnP0"
   },
   "outputs": [],
   "source": [
    "df[df.duplicated()]"
   ]
  },
  {
   "cell_type": "code",
   "execution_count": null,
   "metadata": {
    "id": "IXCc2fWtCnTn"
   },
   "outputs": [],
   "source": [
    "df[df.duplicated()].shape"
   ]
  },
  {
   "cell_type": "code",
   "execution_count": null,
   "metadata": {
    "id": "PvzbLG4D6PNY"
   },
   "outputs": [],
   "source": [
    "df.columns"
   ]
  },
  {
   "cell_type": "markdown",
   "metadata": {
    "id": "k55Crg3N2Iuy"
   },
   "source": [
    "# Define the categorical variables and numeric variables"
   ]
  },
  {
   "cell_type": "code",
   "execution_count": null,
   "metadata": {
    "id": "DMEaU-vQCnXS"
   },
   "outputs": [],
   "source": [
    "# List of Numerical Variables\n",
    "numerical_features=[feature for feature in df.columns if df[feature].dtypes != 'O']\n",
    "\n",
    "print('Number of numerical variables:', len(numerical_features))\n",
    "\n",
    "# Visualize the numerical variables\n",
    "df[numerical_features].head()"
   ]
  },
  {
   "cell_type": "markdown",
   "metadata": {
    "id": "gci48RtT2jyh"
   },
   "source": [
    "Numerical variables are usually of 2 types\n",
    "\n",
    "1) discrete variable\n",
    "\n",
    "2) Continuous variabl"
   ]
  },
  {
   "cell_type": "code",
   "execution_count": null,
   "metadata": {
    "id": "zQiRk7Q6Cnax"
   },
   "outputs": [],
   "source": [
    "\n",
    "discrete_feature=[feature for feature in numerical_features if len(df[feature].unique())<25]\n",
    "print('Discrete Variables Count: {}'.format(len(discrete_feature)))"
   ]
  },
  {
   "cell_type": "code",
   "execution_count": null,
   "metadata": {
    "id": "crUstv7JCnjN"
   },
   "outputs": [],
   "source": [
    "continuous_feature=[feature for feature in numerical_features if feature not in discrete_feature]\n",
    "print('Continuous Feature Count {}'.format(len(continuous_feature)))"
   ]
  },
  {
   "cell_type": "code",
   "execution_count": null,
   "metadata": {
    "id": "CC7ZXST33q4Z"
   },
   "outputs": [],
   "source": [
    "categorical = [var for var in df.columns if df[var].dtype=='O']\n",
    "print('There are {} categorical variables\\n'.format(len(categorical)))\n",
    "print('The categorical variables are :\\n', categorical)\n",
    "print('\\n')"
   ]
  },
  {
   "cell_type": "markdown",
   "metadata": {
    "id": "Kszb6AnV5xx7"
   },
   "source": [
    "# Correlation Matrix"
   ]
  },
  {
   "cell_type": "code",
   "execution_count": null,
   "metadata": {
    "id": "0QAw4jWPCoit"
   },
   "outputs": [],
   "source": [
    "df.corr()"
   ]
  },
  {
   "cell_type": "markdown",
   "metadata": {
    "id": "6S-lbVnR57A6"
   },
   "source": [
    "# Data Visualization"
   ]
  },
  {
   "cell_type": "code",
   "execution_count": null,
   "metadata": {
    "id": "9iORJ_EDConk"
   },
   "outputs": [],
   "source": [
    "fig=plt.figure(figsize=(18,8))\n",
    "sns.heatmap(df.corr(),annot=True)\n",
    "plt.xticks(rotation=45)"
   ]
  },
  {
   "cell_type": "code",
   "execution_count": null,
   "metadata": {
    "id": "21GtR8DpCork"
   },
   "outputs": [],
   "source": [
    "continuous=['FFMC', 'DMC', 'DC', 'ISI', 'temp', 'RH', 'wind', 'rain', 'area', 'dayfri', 'daymon', 'daysat', 'daysun', 'daythu', 'daytue', 'daywed', 'monthapr', 'monthaug', 'monthdec', 'monthfeb', 'monthjan', 'monthjul', 'monthjun', 'monthmar', 'monthmay', 'monthnov', 'monthoct', 'monthsep']\n"
   ]
  },
  {
   "cell_type": "code",
   "execution_count": null,
   "metadata": {
    "id": "v8R8-rJUCovM"
   },
   "outputs": [],
   "source": [
    "continuous=['AT', 'AP', 'AH', 'AFDP', 'GTEP', 'TIT', 'TAT', 'TEY', 'CDP', 'CO',\n",
    "       'NOX']"
   ]
  },
  {
   "cell_type": "code",
   "execution_count": null,
   "metadata": {
    "id": "s5oLx5zKCoyd"
   },
   "outputs": [],
   "source": [
    "columns=['AT', 'AP', 'AH', 'AFDP', 'GTEP', 'TIT', 'TAT', 'TEY', 'CDP', 'CO',\n",
    "       'NOX'] \n",
    "for col in columns:\n",
    "  plt.figure()\n",
    "  sns.boxplot(df[col])    \n",
    "  plt.show()  "
   ]
  },
  {
   "cell_type": "code",
   "execution_count": null,
   "metadata": {
    "id": "cpVPMqDBCo2n"
   },
   "outputs": [],
   "source": [
    "for feature in continuous:\n",
    "  sns.displot(data =df , x=feature,height = 4, aspect = 2, palette='deep')\n",
    "  plt.show()"
   ]
  },
  {
   "cell_type": "code",
   "execution_count": null,
   "metadata": {
    "id": "bSnMpLDfCo5t"
   },
   "outputs": [],
   "source": [
    "for feature in continuous:\n",
    "  plt.figure()\n",
    "  sns.violinplot(df[feature])\n",
    "  plt.show()"
   ]
  },
  {
   "cell_type": "markdown",
   "metadata": {
    "id": "zrPgwj7rEfa9"
   },
   "source": [
    "# Label of Categorical variables"
   ]
  },
  {
   "cell_type": "code",
   "execution_count": null,
   "metadata": {
    "id": "paWtLTPHCo9z"
   },
   "outputs": [],
   "source": [
    "pal = sns.color_palette('rainbow')\n",
    "sns.countplot(x='TEY', data=df, palette = pal, \n",
    "              order=df['TEY'].value_counts().index)\n",
    "plt.xticks(fontsize = 12)\n",
    "plt.title('gas_turbine')"
   ]
  },
  {
   "cell_type": "markdown",
   "metadata": {
    "id": "tWxhdgElFh3U"
   },
   "source": [
    "# Defining Dependent and Independent variable"
   ]
  },
  {
   "cell_type": "code",
   "execution_count": null,
   "metadata": {
    "id": "FUgFJcoHCpIU"
   },
   "outputs": [],
   "source": [
    "x=df.drop(['TEY'],axis=1)\n",
    "y=df['TEY']"
   ]
  },
  {
   "cell_type": "code",
   "execution_count": null,
   "metadata": {
    "id": "7S2TzWYNCpLr"
   },
   "outputs": [],
   "source": [
    "x.value_counts()"
   ]
  },
  {
   "cell_type": "code",
   "execution_count": null,
   "metadata": {
    "id": "XddmccpaFvf8"
   },
   "outputs": [],
   "source": [
    "y.value_counts()"
   ]
  },
  {
   "cell_type": "markdown",
   "metadata": {
    "id": "nOrvb0LhF8gw"
   },
   "source": [
    "# Scaling the Data"
   ]
  },
  {
   "cell_type": "code",
   "execution_count": null,
   "metadata": {
    "id": "oKsDem_2FyrY"
   },
   "outputs": [],
   "source": [
    "# Standardization\n",
    "a = StandardScaler()\n",
    "a.fit(x)\n",
    "x_standardized = a.transform(x)"
   ]
  },
  {
   "cell_type": "code",
   "execution_count": null,
   "metadata": {
    "id": "VYAw8hCoF21d"
   },
   "outputs": [],
   "source": [
    "x_standardized.shape"
   ]
  },
  {
   "cell_type": "code",
   "execution_count": null,
   "metadata": {
    "id": "Tc84w5toF24h"
   },
   "outputs": [],
   "source": [
    "pd.DataFrame(x_standardized)"
   ]
  },
  {
   "cell_type": "markdown",
   "metadata": {
    "id": "dCLFqykhGInU"
   },
   "source": [
    "# define train_test_split"
   ]
  },
  {
   "cell_type": "code",
   "execution_count": null,
   "metadata": {
    "id": "dsiWH82cF27c"
   },
   "outputs": [],
   "source": [
    "from sklearn.model_selection import train_test_split\n",
    "x_train,x_test,y_train,y_test=train_test_split(x,y,test_size=0.3,random_state=42)"
   ]
  },
  {
   "cell_type": "code",
   "execution_count": null,
   "metadata": {
    "id": "U2XwsFq6F2-y"
   },
   "outputs": [],
   "source": [
    "x_train.shape,x_test.shape"
   ]
  },
  {
   "cell_type": "markdown",
   "metadata": {
    "id": "f4noLSzaGRjF"
   },
   "source": [
    "# Tuning the Hyperparameters :- Batch size and Epochs"
   ]
  },
  {
   "cell_type": "code",
   "execution_count": null,
   "metadata": {
    "id": "WoCyxr5HGOs_"
   },
   "outputs": [],
   "source": [
    "from sklearn.model_selection import GridSearchCV, KFold\n",
    "from keras.models import Sequential\n",
    "from keras.layers import Dense\n",
    "from keras.wrappers.scikit_learn import KerasClassifier\n",
    "from keras.optimizers import adam_v2"
   ]
  },
  {
   "cell_type": "code",
   "execution_count": null,
   "metadata": {
    "id": "Ic8b2REvGU__"
   },
   "outputs": [],
   "source": [
    "# Create model\n",
    "def create_model():\n",
    "  model = Sequential()\n",
    "  model.add(Dense(30, input_dim = 10, kernel_initializer='uniform',activation='relu')) \n",
    "  model.add(Dense(25, kernel_initializer='uniform',activation='relu'))\n",
    "  model.add(Dense(1, kernel_initializer='uniform',activation='sigmoid'))\n",
    "\n",
    "  adam = adam_v2.Adam(lr = 0.01)\n",
    "\n",
    "  model.compile(loss = 'binary_crossentropy',\n",
    "                optimizer = adam,\n",
    "                metrics = ['accuracy'])\n",
    "  \n",
    "  return model"
   ]
  },
  {
   "cell_type": "code",
   "execution_count": null,
   "metadata": {
    "id": "y1IUdRkMGgif"
   },
   "outputs": [],
   "source": [
    "# Create the model\n",
    "model = KerasClassifier(build_fn = create_model, verbose = 0)\n",
    "\n",
    "\n",
    "# Define the grid search parameter\n",
    "batch_size = [10,20,40,60]\n",
    "epochs = [10,50,100,150]\n",
    "\n",
    "#Make a dictionary of the grid search parameters\n",
    "param_grid = dict(batch_size = batch_size,\n",
    "                  epochs = epochs)\n",
    "\n",
    "# Build and fit the GridSearchCV\n",
    "grid = GridSearchCV(estimator = model,\n",
    "                    param_grid = param_grid,\n",
    "                    cv = KFold(),\n",
    "                    verbose = 10)\n",
    "\n",
    "grid_result = grid.fit(x_standardized, y)"
   ]
  },
  {
   "cell_type": "code",
   "execution_count": null,
   "metadata": {
    "id": "_-Mo9apgGo-l"
   },
   "outputs": [],
   "source": [
    "# Summarize the results\n",
    "print('Best : {}, using {}' .format(grid_result.best_score_,grid_result.best_params_))\n",
    "\n",
    "means = grid_result.cv_results_['mean_test_score']\n",
    "stds = grid_result.cv_results_['std_test_score']\n",
    "params = grid_result.cv_results_['params']\n",
    "\n",
    "for mean,stdev,param in zip(means, stds, params):\n",
    "  print('{},{} with: {}'.format(mean,stdev, param))"
   ]
  },
  {
   "cell_type": "markdown",
   "metadata": {
    "id": "UYMWNZFHkhU8"
   },
   "source": [
    "# Tuning of Hyperparameters:-Learning Rate and Drop out rate"
   ]
  },
  {
   "cell_type": "code",
   "execution_count": null,
   "metadata": {
    "id": "4yCYwW8piC6Q"
   },
   "outputs": [],
   "source": [
    "from keras.layers import Dropout\n",
    "# Defining the model\n",
    "def create_model(learning_rate, dropout_rate):\n",
    "  model1 = Sequential()\n",
    "  model1.add(Dense(30, input_dim = 10, kernel_initializer='uniform',activation='relu'))\n",
    "  model1.add(Dropout(dropout_rate))\n",
    "  model1.add(Dense(25, input_dim = 10, kernel_initializer='uniform',activation='relu'))\n",
    "  model1.add(Dropout(dropout_rate))\n",
    "  model1.add(Dense(1,activation='sigmoid'))\n",
    "\n",
    "  adam = adam_v2.Adam(lr = learning_rate)\n",
    "\n",
    "  model1.compile(loss = 'binary_crossentropy',\n",
    "                optimizer = adam,\n",
    "                metrics = ['accuracy'])\n",
    "  return model1"
   ]
  },
  {
   "cell_type": "code",
   "execution_count": null,
   "metadata": {
    "id": "VLzv0IBCkwL_"
   },
   "outputs": [],
   "source": [
    "# Create the model\n",
    "model1 = KerasClassifier(build_fn = create_model, \n",
    "                        verbose = 0,\n",
    "                        batch_size = 10,\n",
    "                        epochs = 10)\n",
    "\n",
    "\n",
    "# Define the grid search parameter\n",
    "learning_rate = [0.001,0.01,0.1]\n",
    "dropout_rate= [0.0,0.1,0.2]\n",
    "\n",
    "#Make a dictionary of the grid search parameters\n",
    "param_grid = dict(learning_rate = learning_rate,\n",
    "                  dropout_rate = dropout_rate)\n",
    "\n",
    "# Build and fit the GridSearchCV\n",
    "grid = GridSearchCV(estimator = model1,\n",
    "                    param_grid = param_grid,\n",
    "                    cv = KFold(),\n",
    "                    verbose = 10)\n",
    "\n",
    "grid_result = grid.fit(x_standardized, y)"
   ]
  },
  {
   "cell_type": "code",
   "execution_count": null,
   "metadata": {
    "id": "8l527fOCk33Z"
   },
   "outputs": [],
   "source": [
    "# Summarize the results\n",
    "print('Best : {}, using {}' .format(grid_result.best_score_,grid_result.best_params_))\n",
    "\n",
    "means = grid_result.cv_results_['mean_test_score']\n",
    "stds = grid_result.cv_results_['std_test_score']\n",
    "params = grid_result.cv_results_['params']\n",
    "\n",
    "for mean,stdev,param in zip(means, stds, params):\n",
    "  print('{},{} with: {}'.format(mean,stdev, param))"
   ]
  },
  {
   "cell_type": "markdown",
   "metadata": {
    "id": "gvvqzp9eoXyp"
   },
   "source": [
    "# Tuning of Hyperparameters:- Activation Function and Kernel Initializer"
   ]
  },
  {
   "cell_type": "code",
   "execution_count": null,
   "metadata": {
    "id": "s1UQGNDjodEr"
   },
   "outputs": [],
   "source": [
    "# Defining the model\n",
    "\n",
    "def create_model(activation_function,init):\n",
    "    model2 = Sequential()\n",
    "    model2.add(Dense(30,input_dim = 10,kernel_initializer = init,activation = activation_function))\n",
    "    model2.add(Dropout(0.0))\n",
    "    model2.add(Dense(25,input_dim = 10,kernel_initializer = init,activation = activation_function))\n",
    "    model2.add(Dropout(0.0))\n",
    "    model2.add(Dense(1,activation = 'sigmoid'))\n",
    "    \n",
    "    adam = adam_v2.Adam(lr = 0.001)\n",
    "    model2.compile(loss = 'binary_crossentropy',optimizer = adam,metrics = ['accuracy'])\n",
    "    return model2\n",
    "\n",
    "# Create the model\n",
    "\n",
    "model2 = KerasClassifier(build_fn = create_model,verbose = 0,batch_size = 20,epochs = 150)\n",
    "\n",
    "# Define the grid search parameters\n",
    "activation_function = ['softmax','relu','tanh','linear']\n",
    "init = ['uniform','normal','zero']\n",
    "\n",
    "# Make a dictionary of the grid search parameters\n",
    "param_grids = dict(activation_function = activation_function,init = init)\n",
    "\n",
    "# Build and fit the GridSearchCV\n",
    "\n",
    "grid = GridSearchCV(estimator = model2,param_grid = param_grids,cv = KFold(),verbose = 10)\n",
    "grid_result = grid.fit(x_standardized,y)"
   ]
  },
  {
   "cell_type": "code",
   "execution_count": null,
   "metadata": {
    "id": "G6b1ChENodPU"
   },
   "outputs": [],
   "source": [
    "# Summarize the results\n",
    "print('Best : {}, using {}'.format(grid_result.best_score_,grid_result.best_params_))\n",
    "means = grid_result.cv_results_['mean_test_score']\n",
    "stds = grid_result.cv_results_['std_test_score']\n",
    "params = grid_result.cv_results_['params']\n",
    "for mean, stdev, param in zip(means, stds, params):\n",
    "  print('{},{} with: {}'.format(mean, stdev, param))"
   ]
  },
  {
   "cell_type": "markdown",
   "metadata": {
    "id": "SyDVQ49zFT36"
   },
   "source": [
    "# Tuning of Hyperparameter :-Number of Neurons in activation laye"
   ]
  },
  {
   "cell_type": "code",
   "execution_count": null,
   "metadata": {
    "id": "VBczSdojFLja"
   },
   "outputs": [],
   "source": [
    "# Defining the model\n",
    "\n",
    "def create_model(neuron1,neuron2):\n",
    "    model3 = Sequential()\n",
    "    model3.add(Dense(neuron1,input_dim = 10,kernel_initializer = 'uniform',activation = 'linear'))\n",
    "    model3.add(Dropout(0.0))\n",
    "    model3.add(Dense(neuron2,input_dim = neuron1,kernel_initializer = 'uniform',activation = 'linear'))\n",
    "    model3.add(Dropout(0.0))\n",
    "    model3.add(Dense(1,activation = 'sigmoid'))\n",
    "    \n",
    "    adam = adam_v2.Adam(lr = 0.001)\n",
    "    model3.compile(loss = 'binary_crossentropy',optimizer = adam,metrics = ['accuracy'])\n",
    "    return model3\n",
    "\n",
    "# Create the model\n",
    "\n",
    "model3 = KerasClassifier(build_fn = create_model,verbose = 0,batch_size = 10,epochs = 10)\n",
    "\n",
    "# Define the grid search parameters\n",
    "\n",
    "neuron1 = [4,8,16,18,25,30]\n",
    "neuron2 = [2,4,8,16,18,25]\n",
    "\n",
    "# Make a dictionary of the grid search parameters\n",
    "\n",
    "param_grids = dict(neuron1 = neuron1,neuron2 = neuron2)\n",
    "\n",
    "# Build and fit the GridSearchCV\n",
    "\n",
    "grid = GridSearchCV(estimator = model3,param_grid = param_grids,cv = KFold(),verbose = 10)\n",
    "grid_result = grid.fit(x_standardized,y)"
   ]
  },
  {
   "cell_type": "code",
   "execution_count": null,
   "metadata": {
    "id": "Q0raG0UnGNue"
   },
   "outputs": [],
   "source": [
    "# Summarize the results\n",
    "print('Best : {}, using {}'.format(grid_result.best_score_,grid_result.best_params_))\n",
    "means = grid_result.cv_results_['mean_test_score']\n",
    "stds = grid_result.cv_results_['std_test_score']\n",
    "params = grid_result.cv_results_['params']\n",
    "for mean, stdev, param in zip(means, stds, params):\n",
    "  print('{},{} with: {}'.format(mean, stdev, param))"
   ]
  },
  {
   "cell_type": "markdown",
   "metadata": {
    "id": "ufOKsZp1SaTv"
   },
   "source": [
    "# Training model with optimum values of Hyperparameters"
   ]
  },
  {
   "cell_type": "code",
   "execution_count": null,
   "metadata": {
    "id": "qKkXKRBTSVYO"
   },
   "outputs": [],
   "source": [
    "from sklearn.metrics import classification_report, accuracy_score\n",
    "\n",
    "# Defining the model\n",
    "\n",
    "def create_model():\n",
    "    model4 = Sequential()\n",
    "    model4.add(Dense(4,input_dim = 10,kernel_initializer = 'uniform',activation = 'linear'))\n",
    "    model4.add(Dropout(0.0))\n",
    "    model4.add(Dense(2,input_dim = 4,kernel_initializer = 'uniform',activation = 'linear'))\n",
    "    model4.add(Dropout(0.0))\n",
    "    model4.add(Dense(1,activation = 'sigmoid'))\n",
    "    \n",
    "    adam = adam_v2.Adam(lr = 0.001) #sgd = SGD(lr=learning_rate, momentum=momentum, decay=decay_rate, nesterov=False)\n",
    "    model4.compile(loss = 'binary_crossentropy',optimizer = adam,metrics = ['accuracy'])\n",
    "    return model4\n",
    "\n",
    "# Create the model\n",
    "\n",
    "model4 = KerasClassifier(build_fn = create_model,verbose = 0,batch_size = 10,epochs = 10)\n",
    "\n",
    "# Fitting the model\n",
    "\n",
    "model4.fit(x_standardized,y)\n",
    "\n",
    "# Predicting using trained model\n",
    "\n",
    "y_predict = model4.predict(x_standardized)\n",
    "\n",
    "# Printing the metrics\n",
    "print(r2_score(y,y_predict))"
   ]
  },
  {
   "cell_type": "markdown",
   "metadata": {
    "id": "60jzRJIaUF7x"
   },
   "source": [
    "# **Building Neural Networks Model using Optimal Values**"
   ]
  },
  {
   "cell_type": "code",
   "execution_count": null,
   "metadata": {
    "id": "oZtfWihFTp_e"
   },
   "outputs": [],
   "source": [
    " # create ANN model\n",
    "model = Sequential()\n",
    "# Defining the first layer of the model\n",
    "model.add(Dense(units=4, input_dim=x_train.shape[1], kernel_initializer='uniform', activation='linear'))\n",
    "model.add(Dropout(0.0))        \n",
    "# Defining the Second layer of the model\n",
    "model.add(Dense(units=2, kernel_initializer='uniform', activation='linear'))\n",
    "model.add(Dropout(0.0))  \n",
    "# The output neuron is a single fully connected node \n",
    "# Since we will be predicting a single number\n",
    "model.add(Dense(1, kernel_initializer='uniform', activation='sigmoid'))\n",
    "\n",
    "model.compile(optimizer='Adam',loss='binary_crossentropy', metrics=['accuracy'])\n",
    "\n",
    "# Training the model with best parameters\n",
    "history = model.fit(x_train, y_train, validation_split=0.33, batch_size = 10, epochs = 10)"
   ]
  },
  {
   "cell_type": "code",
   "execution_count": null,
   "metadata": {
    "id": "onWaeECNU417"
   },
   "outputs": [],
   "source": [
    "# Evaluate the model\n",
    "scores = model.evaluate(x,y)\n",
    "print(\"%s: %.2f%%\" % (model.metrics_names[1], scores[1]*100))"
   ]
  },
  {
   "cell_type": "code",
   "execution_count": null,
   "metadata": {
    "id": "r8nycCT1U_1J"
   },
   "outputs": [],
   "source": [
    "model.metrics_names"
   ]
  },
  {
   "cell_type": "code",
   "execution_count": null,
   "metadata": {
    "id": "RVMAePWoVEZR"
   },
   "outputs": [],
   "source": [
    "scores"
   ]
  },
  {
   "cell_type": "code",
   "execution_count": null,
   "metadata": {
    "id": "1NMj76zNVF-m"
   },
   "outputs": [],
   "source": [
    "#visualize training history\n",
    "\n",
    "#list all data in history\n",
    "history.history.keys()"
   ]
  },
  {
   "cell_type": "code",
   "execution_count": null,
   "metadata": {
    "id": "nnp1Z6yUVGC3"
   },
   "outputs": [],
   "source": [
    "#Summarize history for accuracy\n",
    "import matplotlib.pyplot as plt\n",
    "plt.plot(history.history['accuracy'])\n",
    "plt.plot(history.history['val_accuracy'])\n",
    "plt.title('model accuracy')\n",
    "plt.ylabel('accuracy')\n",
    "plt.xlabel('epoch')\n",
    "plt.legend(['train','test'], loc='upper left')\n",
    "plt.show()"
   ]
  },
  {
   "cell_type": "code",
   "execution_count": null,
   "metadata": {
    "id": "0778pmnvVGGF"
   },
   "outputs": [],
   "source": [
    "#Summarize history for loss\n",
    "import matplotlib.pyplot as plt\n",
    "plt.plot(history.history['loss'])\n",
    "plt.plot(history.history['val_loss'])\n",
    "plt.title('model loss')\n",
    "plt.ylabel('loss')\n",
    "plt.xlabel('epoch')\n",
    "plt.legend(['train','test'], loc='upper left')\n",
    "plt.show()"
   ]
  },
  {
   "cell_type": "code",
   "execution_count": null,
   "metadata": {
    "id": "X_pzCr82VGJV"
   },
   "outputs": [],
   "source": [
    "model.summary()"
   ]
  },
  {
   "cell_type": "code",
   "execution_count": null,
   "metadata": {
    "id": "9aTLsxL1VGM5"
   },
   "outputs": [],
   "source": []
  },
  {
   "cell_type": "code",
   "execution_count": null,
   "metadata": {
    "id": "l0TTJbz3Vqx1"
   },
   "outputs": [],
   "source": []
  },
  {
   "cell_type": "code",
   "execution_count": null,
   "metadata": {
    "id": "YvmR3CetVq1E"
   },
   "outputs": [],
   "source": []
  },
  {
   "cell_type": "code",
   "execution_count": null,
   "metadata": {
    "id": "t5tVl2FFVq4r"
   },
   "outputs": [],
   "source": []
  }
 ],
 "metadata": {
  "colab": {
   "provenance": []
  },
  "kernelspec": {
   "display_name": "Python 3 (ipykernel)",
   "language": "python",
   "name": "python3"
  },
  "language_info": {
   "codemirror_mode": {
    "name": "ipython",
    "version": 3
   },
   "file_extension": ".py",
   "mimetype": "text/x-python",
   "name": "python",
   "nbconvert_exporter": "python",
   "pygments_lexer": "ipython3",
   "version": "3.9.13"
  }
 },
 "nbformat": 4,
 "nbformat_minor": 1
}
